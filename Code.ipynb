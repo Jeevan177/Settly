{
 "cells": [
  {
   "cell_type": "code",
   "execution_count": 1,
   "metadata": {},
   "outputs": [],
   "source": [
    "import json\n",
    "import re\n",
    "import numpy as np\n",
    "from sklearn.model_selection import train_test_split\n",
    "import tensorflow as tf\n",
    "from tensorflow.keras.preprocessing.text import Tokenizer\n",
    "from tensorflow.keras.preprocessing.sequence import pad_sequences"
   ]
  },
  {
   "cell_type": "code",
   "execution_count": 2,
   "metadata": {},
   "outputs": [],
   "source": [
    "with open('dataset.json', 'r') as f:\n",
    "    data = json.load(f)"
   ]
  },
  {
   "cell_type": "markdown",
   "metadata": {},
   "source": [
    "# Preprocess data"
   ]
  },
  {
   "cell_type": "code",
   "execution_count": 3,
   "metadata": {},
   "outputs": [],
   "source": [
    "def preprocess_text(text):\n",
    "    # Remove special characters and extra whitespace\n",
    "    text = re.sub(r'[^\\w\\s]', '', text)\n",
    "    text = re.sub(r'\\s+', ' ', text)\n",
    "    # Convert to lowercase\n",
    "    text = text.lower()\n",
    "    return text"
   ]
  },
  {
   "cell_type": "code",
   "execution_count": 4,
   "metadata": {},
   "outputs": [],
   "source": [
    "X = [preprocess_text(item['externalStatus']) for item in data]\n",
    "y = [item['internalStatus'] for item in data]"
   ]
  },
  {
   "cell_type": "code",
   "execution_count": 43,
   "metadata": {},
   "outputs": [
    {
     "data": {
      "text/html": [
       "<div>\n",
       "<style scoped>\n",
       "    .dataframe tbody tr th:only-of-type {\n",
       "        vertical-align: middle;\n",
       "    }\n",
       "\n",
       "    .dataframe tbody tr th {\n",
       "        vertical-align: top;\n",
       "    }\n",
       "\n",
       "    .dataframe thead th {\n",
       "        text-align: right;\n",
       "    }\n",
       "</style>\n",
       "<table border=\"1\" class=\"dataframe\">\n",
       "  <thead>\n",
       "    <tr style=\"text-align: right;\">\n",
       "      <th></th>\n",
       "      <th>Column1</th>\n",
       "      <th>Column2</th>\n",
       "    </tr>\n",
       "  </thead>\n",
       "  <tbody>\n",
       "    <tr>\n",
       "      <th>0</th>\n",
       "      <td>port out</td>\n",
       "      <td>Port Out</td>\n",
       "    </tr>\n",
       "    <tr>\n",
       "      <th>1</th>\n",
       "      <td>terminal in</td>\n",
       "      <td>Inbound Terminal</td>\n",
       "    </tr>\n",
       "    <tr>\n",
       "      <th>2</th>\n",
       "      <td>port in</td>\n",
       "      <td>Port In</td>\n",
       "    </tr>\n",
       "    <tr>\n",
       "      <th>3</th>\n",
       "      <td>vessel departure from first pol vessel name ti...</td>\n",
       "      <td>Departure</td>\n",
       "    </tr>\n",
       "    <tr>\n",
       "      <th>4</th>\n",
       "      <td>vessel arrival at final pod vessel name tian f...</td>\n",
       "      <td>Arrival</td>\n",
       "    </tr>\n",
       "    <tr>\n",
       "      <th>...</th>\n",
       "      <td>...</td>\n",
       "      <td>...</td>\n",
       "    </tr>\n",
       "    <tr>\n",
       "      <th>1217</th>\n",
       "      <td>import loaded on rail</td>\n",
       "      <td>Loaded on Vessel</td>\n",
       "    </tr>\n",
       "    <tr>\n",
       "      <th>1218</th>\n",
       "      <td>full transshipment loaded</td>\n",
       "      <td>Loaded on Vessel</td>\n",
       "    </tr>\n",
       "    <tr>\n",
       "      <th>1219</th>\n",
       "      <td>full transshipment loaded</td>\n",
       "      <td>Loaded on Vessel</td>\n",
       "    </tr>\n",
       "    <tr>\n",
       "      <th>1220</th>\n",
       "      <td>export loaded on vessel</td>\n",
       "      <td>Loaded on Vessel</td>\n",
       "    </tr>\n",
       "    <tr>\n",
       "      <th>1221</th>\n",
       "      <td>empty to shipper</td>\n",
       "      <td>Empty Container Released</td>\n",
       "    </tr>\n",
       "  </tbody>\n",
       "</table>\n",
       "<p>1222 rows × 2 columns</p>\n",
       "</div>"
      ],
      "text/plain": [
       "                                                Column1  \\\n",
       "0                                              port out   \n",
       "1                                           terminal in   \n",
       "2                                               port in   \n",
       "3     vessel departure from first pol vessel name ti...   \n",
       "4     vessel arrival at final pod vessel name tian f...   \n",
       "...                                                 ...   \n",
       "1217                              import loaded on rail   \n",
       "1218                          full transshipment loaded   \n",
       "1219                          full transshipment loaded   \n",
       "1220                            export loaded on vessel   \n",
       "1221                                   empty to shipper   \n",
       "\n",
       "                       Column2  \n",
       "0                     Port Out  \n",
       "1             Inbound Terminal  \n",
       "2                      Port In  \n",
       "3                    Departure  \n",
       "4                      Arrival  \n",
       "...                        ...  \n",
       "1217          Loaded on Vessel  \n",
       "1218          Loaded on Vessel  \n",
       "1219          Loaded on Vessel  \n",
       "1220          Loaded on Vessel  \n",
       "1221  Empty Container Released  \n",
       "\n",
       "[1222 rows x 2 columns]"
      ]
     },
     "execution_count": 43,
     "metadata": {},
     "output_type": "execute_result"
    }
   ],
   "source": [
    "import pandas as pd\n",
    "\n",
    "# Create DataFrame\n",
    "df = pd.DataFrame({'Column1': X, 'Column2': y})\n",
    "\n",
    "# Display DataFrame\n",
    "df\n"
   ]
  },
  {
   "cell_type": "code",
   "execution_count": 44,
   "metadata": {},
   "outputs": [],
   "source": [
    "# Rename columns\n",
    "df = df.rename(columns={'Column1': 'External_Status', 'Column2': 'Internal_Status'})\n"
   ]
  },
  {
   "cell_type": "code",
   "execution_count": 45,
   "metadata": {},
   "outputs": [
    {
     "data": {
      "text/html": [
       "<div>\n",
       "<style scoped>\n",
       "    .dataframe tbody tr th:only-of-type {\n",
       "        vertical-align: middle;\n",
       "    }\n",
       "\n",
       "    .dataframe tbody tr th {\n",
       "        vertical-align: top;\n",
       "    }\n",
       "\n",
       "    .dataframe thead th {\n",
       "        text-align: right;\n",
       "    }\n",
       "</style>\n",
       "<table border=\"1\" class=\"dataframe\">\n",
       "  <thead>\n",
       "    <tr style=\"text-align: right;\">\n",
       "      <th></th>\n",
       "      <th>External_Status</th>\n",
       "      <th>Internal_Status</th>\n",
       "    </tr>\n",
       "  </thead>\n",
       "  <tbody>\n",
       "    <tr>\n",
       "      <th>0</th>\n",
       "      <td>port out</td>\n",
       "      <td>Port Out</td>\n",
       "    </tr>\n",
       "    <tr>\n",
       "      <th>1</th>\n",
       "      <td>terminal in</td>\n",
       "      <td>Inbound Terminal</td>\n",
       "    </tr>\n",
       "    <tr>\n",
       "      <th>2</th>\n",
       "      <td>port in</td>\n",
       "      <td>Port In</td>\n",
       "    </tr>\n",
       "    <tr>\n",
       "      <th>3</th>\n",
       "      <td>vessel departure from first pol vessel name ti...</td>\n",
       "      <td>Departure</td>\n",
       "    </tr>\n",
       "    <tr>\n",
       "      <th>4</th>\n",
       "      <td>vessel arrival at final pod vessel name tian f...</td>\n",
       "      <td>Arrival</td>\n",
       "    </tr>\n",
       "    <tr>\n",
       "      <th>...</th>\n",
       "      <td>...</td>\n",
       "      <td>...</td>\n",
       "    </tr>\n",
       "    <tr>\n",
       "      <th>1217</th>\n",
       "      <td>import loaded on rail</td>\n",
       "      <td>Loaded on Vessel</td>\n",
       "    </tr>\n",
       "    <tr>\n",
       "      <th>1218</th>\n",
       "      <td>full transshipment loaded</td>\n",
       "      <td>Loaded on Vessel</td>\n",
       "    </tr>\n",
       "    <tr>\n",
       "      <th>1219</th>\n",
       "      <td>full transshipment loaded</td>\n",
       "      <td>Loaded on Vessel</td>\n",
       "    </tr>\n",
       "    <tr>\n",
       "      <th>1220</th>\n",
       "      <td>export loaded on vessel</td>\n",
       "      <td>Loaded on Vessel</td>\n",
       "    </tr>\n",
       "    <tr>\n",
       "      <th>1221</th>\n",
       "      <td>empty to shipper</td>\n",
       "      <td>Empty Container Released</td>\n",
       "    </tr>\n",
       "  </tbody>\n",
       "</table>\n",
       "<p>1222 rows × 2 columns</p>\n",
       "</div>"
      ],
      "text/plain": [
       "                                        External_Status  \\\n",
       "0                                              port out   \n",
       "1                                           terminal in   \n",
       "2                                               port in   \n",
       "3     vessel departure from first pol vessel name ti...   \n",
       "4     vessel arrival at final pod vessel name tian f...   \n",
       "...                                                 ...   \n",
       "1217                              import loaded on rail   \n",
       "1218                          full transshipment loaded   \n",
       "1219                          full transshipment loaded   \n",
       "1220                            export loaded on vessel   \n",
       "1221                                   empty to shipper   \n",
       "\n",
       "               Internal_Status  \n",
       "0                     Port Out  \n",
       "1             Inbound Terminal  \n",
       "2                      Port In  \n",
       "3                    Departure  \n",
       "4                      Arrival  \n",
       "...                        ...  \n",
       "1217          Loaded on Vessel  \n",
       "1218          Loaded on Vessel  \n",
       "1219          Loaded on Vessel  \n",
       "1220          Loaded on Vessel  \n",
       "1221  Empty Container Released  \n",
       "\n",
       "[1222 rows x 2 columns]"
      ]
     },
     "execution_count": 45,
     "metadata": {},
     "output_type": "execute_result"
    }
   ],
   "source": [
    "df"
   ]
  },
  {
   "cell_type": "code",
   "execution_count": 17,
   "metadata": {},
   "outputs": [],
   "source": [
    "X_train, X_test, y_train, y_test = train_test_split(X, y, test_size=0.4, random_state=42)"
   ]
  },
  {
   "cell_type": "markdown",
   "metadata": {},
   "source": [
    "# Model Development"
   ]
  },
  {
   "cell_type": "code",
   "execution_count": 18,
   "metadata": {},
   "outputs": [],
   "source": [
    "# Convert labels to numerical format\n",
    "label_to_index = {label: i for i, label in enumerate(set(y))}\n",
    "y_train_numeric = np.array([label_to_index[label] for label in y_train])\n",
    "y_test_numeric = np.array([label_to_index[label] for label in y_test])"
   ]
  },
  {
   "cell_type": "code",
   "execution_count": 19,
   "metadata": {},
   "outputs": [],
   "source": [
    "# Tokenize input text\n",
    "tokenizer = Tokenizer()\n",
    "tokenizer.fit_on_texts(X_train)\n",
    "X_train_seq = tokenizer.texts_to_sequences(X_train)\n",
    "X_test_seq = tokenizer.texts_to_sequences(X_test)\n",
    "\n",
    "# Pad sequences\n",
    "max_len = 100\n",
    "X_train_pad = pad_sequences(X_train_seq, maxlen=max_len, padding='post')\n",
    "X_test_pad = pad_sequences(X_test_seq, maxlen=max_len, padding='post')"
   ]
  },
  {
   "cell_type": "code",
   "execution_count": 39,
   "metadata": {},
   "outputs": [
    {
     "name": "stdout",
     "output_type": "stream",
     "text": [
      "Epoch 1/10\n",
      "23/23 [==============================] - 7s 145ms/step - loss: 2.2510 - accuracy: 0.2756 - val_loss: 2.1582 - val_accuracy: 0.2413\n",
      "Epoch 2/10\n",
      "23/23 [==============================] - 3s 118ms/step - loss: 1.8993 - accuracy: 0.4570 - val_loss: 1.8652 - val_accuracy: 0.5828\n",
      "Epoch 3/10\n",
      "23/23 [==============================] - 3s 114ms/step - loss: 1.4185 - accuracy: 0.6357 - val_loss: 1.2920 - val_accuracy: 0.7014\n",
      "Epoch 4/10\n",
      "23/23 [==============================] - 3s 112ms/step - loss: 0.9074 - accuracy: 0.7872 - val_loss: 0.8837 - val_accuracy: 0.8037\n",
      "Epoch 5/10\n",
      "23/23 [==============================] - 3s 118ms/step - loss: 0.5751 - accuracy: 0.8554 - val_loss: 0.6053 - val_accuracy: 0.8405\n",
      "Epoch 6/10\n",
      "23/23 [==============================] - 3s 121ms/step - loss: 0.3714 - accuracy: 0.9100 - val_loss: 0.4299 - val_accuracy: 0.8875\n",
      "Epoch 7/10\n",
      "23/23 [==============================] - 3s 121ms/step - loss: 0.2484 - accuracy: 0.9509 - val_loss: 0.3155 - val_accuracy: 0.9141\n",
      "Epoch 8/10\n",
      "23/23 [==============================] - 3s 138ms/step - loss: 0.1734 - accuracy: 0.9604 - val_loss: 0.2213 - val_accuracy: 0.9366\n",
      "Epoch 9/10\n",
      "23/23 [==============================] - 3s 145ms/step - loss: 0.1192 - accuracy: 0.9795 - val_loss: 0.1660 - val_accuracy: 0.9755\n",
      "Epoch 10/10\n",
      "23/23 [==============================] - 3s 138ms/step - loss: 0.0869 - accuracy: 0.9918 - val_loss: 0.1332 - val_accuracy: 0.9775\n"
     ]
    },
    {
     "data": {
      "text/plain": [
       "<keras.src.callbacks.History at 0x246ab933790>"
      ]
     },
     "execution_count": 39,
     "metadata": {},
     "output_type": "execute_result"
    }
   ],
   "source": [
    "# Import Bidirectional layer\n",
    "from tensorflow.keras.layers import Bidirectional\n",
    "\n",
    "# Define model with Bi-LSTM\n",
    "model = tf.keras.Sequential([\n",
    "    tf.keras.layers.Embedding(input_dim=len(tokenizer.word_index)+1, output_dim=100, input_length=max_len),\n",
    "    Bidirectional(tf.keras.layers.LSTM(128)),\n",
    "    tf.keras.layers.Dense(len(set(y)), activation='softmax')\n",
    "])\n",
    "\n",
    "# Compile model\n",
    "model.compile(loss='sparse_categorical_crossentropy', optimizer='adam', metrics=['accuracy'])\n",
    "\n",
    "# Train model\n",
    "model.fit(X_train_pad, y_train_numeric, epochs=10, batch_size=32, validation_data=(X_test_pad, y_test_numeric))\n"
   ]
  },
  {
   "cell_type": "code",
   "execution_count": 40,
   "metadata": {},
   "outputs": [
    {
     "name": "stdout",
     "output_type": "stream",
     "text": [
      "16/16 [==============================] - 1s 38ms/step - loss: 0.1332 - accuracy: 0.9775\n",
      "Accuracy: 0.977505087852478\n"
     ]
    }
   ],
   "source": [
    "# Convert y_test to numpy array\n",
    "y_test_numeric = np.array([label_to_index[label] for label in y_test])\n",
    "\n",
    "# Evaluate model\n",
    "loss, accuracy = model.evaluate(X_test_pad, y_test_numeric)\n",
    "print('Accuracy:', accuracy)\n"
   ]
  }
 ],
 "metadata": {
  "kernelspec": {
   "display_name": "Python 3",
   "language": "python",
   "name": "python3"
  },
  "language_info": {
   "codemirror_mode": {
    "name": "ipython",
    "version": 3
   },
   "file_extension": ".py",
   "mimetype": "text/x-python",
   "name": "python",
   "nbconvert_exporter": "python",
   "pygments_lexer": "ipython3",
   "version": "3.11.1"
  }
 },
 "nbformat": 4,
 "nbformat_minor": 2
}
